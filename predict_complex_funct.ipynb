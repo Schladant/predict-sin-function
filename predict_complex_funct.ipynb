{
 "cells": [
  {
   "cell_type": "code",
   "execution_count": 1,
   "metadata": {},
   "outputs": [],
   "source": [
    "import numpy as np\n",
    "import tensorflow as tf\n",
    "from tensorflow import keras\n",
    "import tensorflow.keras.backend as K\n",
    "from tensorflow.keras import layers\n",
    "from tensorflow.keras.layers import Dropout\n",
    "import math\n",
    "import matplotlib.pyplot as plt\n",
    "from sklearn.metrics import mean_squared_error"
   ]
  },
  {
   "cell_type": "code",
   "execution_count": 2,
   "metadata": {},
   "outputs": [],
   "source": [
    "sin_wave = np.array([((0.1*x) + math.sin(0.5*x)) for x in np.arange(2000)])"
   ]
  },
  {
   "cell_type": "code",
   "execution_count": 3,
   "metadata": {
    "scrolled": false
   },
   "outputs": [
    {
     "data": {
      "image/png": "[encoded data removed]",
      "text/plain": [
       "<Figure size 432x288 with 1 Axes>"
      ]
     },
     "metadata": {
      "needs_background": "light"
     },
     "output_type": "display_data"
    },
    {
     "data": {
      "text/plain": [
       "<Figure size 432x288 with 0 Axes>"
      ]
     },
     "metadata": {},
     "output_type": "display_data"
    }
   ],
   "source": [
    "plt.plot(sin_wave)\n",
    "plt.show()\n",
    "plt.clf()"
   ]
  },
  {
   "cell_type": "code",
   "execution_count": 4,
   "metadata": {},
   "outputs": [],
   "source": [
    "X = []\n",
    "Y = []\n",
    "\n",
    "seq_len = 50\n",
    "num_records = len(sin_wave) - seq_len\n",
    "\n",
    "for i in range(seq_len, num_records):\n",
    "    X.append(sin_wave[i:i+seq_len])\n",
    "    Y.append(sin_wave[i+seq_len])\n",
    "    \n",
    "X = np.array(X)\n",
    "X = np.expand_dims(X, axis=2)\n",
    "\n",
    "Y = np.array(Y)\n",
    "Y = np.expand_dims(Y, axis=1)"
   ]
  },
  {
   "cell_type": "code",
   "execution_count": 5,
   "metadata": {},
   "outputs": [],
   "source": [
    "X_val = []\n",
    "Y_val = []\n",
    "\n",
    "for i in range(seq_len):\n",
    "    X_val.append(sin_wave[i:i+seq_len])\n",
    "    Y_val.append(sin_wave[i+seq_len])\n",
    "    \n",
    "X_val = np.array(X_val)\n",
    "X_val = np.expand_dims(X_val, axis=2)\n",
    "\n",
    "Y_val = np.array(Y_val)\n",
    "Y_val = np.expand_dims(Y_val, axis=1)"
   ]
  },
  {
   "cell_type": "code",
   "execution_count": 6,
   "metadata": {},
   "outputs": [],
   "source": [
    "model = keras.Sequential()\n",
    "model.add(layers.SimpleRNN(20, activation='relu'))\n",
    "model.add(layers.Dense(1))"
   ]
  },
  {
   "cell_type": "code",
   "execution_count": 7,
   "metadata": {},
   "outputs": [],
   "source": [
    "model.compile(loss='mean_squared_error', optimizer='adam')"
   ]
  },
  {
   "cell_type": "code",
   "execution_count": 8,
   "metadata": {},
   "outputs": [
    {
     "name": "stdout",
     "output_type": "stream",
     "text": [
      "Epoch 1/50\n",
      "60/60 [==============================] - 0s 5ms/step - loss: 2312.6753\n",
      "Epoch 2/50\n",
      "60/60 [==============================] - 0s 5ms/step - loss: 7.1744\n",
      "Epoch 3/50\n",
      "60/60 [==============================] - 0s 4ms/step - loss: 0.2421\n",
      "Epoch 4/50\n",
      "60/60 [==============================] - 0s 4ms/step - loss: 0.2286\n",
      "Epoch 5/50\n",
      "60/60 [==============================] - 0s 4ms/step - loss: 0.2293\n",
      "Epoch 6/50\n",
      "60/60 [==============================] - 0s 4ms/step - loss: 0.2296\n",
      "Epoch 7/50\n",
      "60/60 [==============================] - 0s 4ms/step - loss: 0.2287\n",
      "Epoch 8/50\n",
      "60/60 [==============================] - 0s 4ms/step - loss: 0.2295\n",
      "Epoch 9/50\n",
      "60/60 [==============================] - 0s 4ms/step - loss: 0.2302\n",
      "Epoch 10/50\n",
      "60/60 [==============================] - 0s 4ms/step - loss: 0.2290\n",
      "Epoch 11/50\n",
      "60/60 [==============================] - 0s 4ms/step - loss: 0.2288\n",
      "Epoch 12/50\n",
      "60/60 [==============================] - 0s 4ms/step - loss: 0.2296\n",
      "Epoch 13/50\n",
      "60/60 [==============================] - 0s 4ms/step - loss: 0.2286\n",
      "Epoch 14/50\n",
      "60/60 [==============================] - 0s 4ms/step - loss: 0.2284\n",
      "Epoch 15/50\n",
      "60/60 [==============================] - 0s 4ms/step - loss: 0.2293\n",
      "Epoch 16/50\n",
      "60/60 [==============================] - 0s 4ms/step - loss: 0.2290\n",
      "Epoch 17/50\n",
      "60/60 [==============================] - 0s 4ms/step - loss: 0.2289\n",
      "Epoch 18/50\n",
      "60/60 [==============================] - 0s 4ms/step - loss: 0.2321\n",
      "Epoch 19/50\n",
      "60/60 [==============================] - 0s 5ms/step - loss: 0.2292\n",
      "Epoch 20/50\n",
      "60/60 [==============================] - 0s 4ms/step - loss: 0.2313\n",
      "Epoch 21/50\n",
      "60/60 [==============================] - 0s 5ms/step - loss: 0.2305\n",
      "Epoch 22/50\n",
      "60/60 [==============================] - 0s 5ms/step - loss: 0.2297\n",
      "Epoch 23/50\n",
      "60/60 [==============================] - 0s 4ms/step - loss: 0.2316\n",
      "Epoch 24/50\n",
      "60/60 [==============================] - 0s 5ms/step - loss: 0.2317\n",
      "Epoch 25/50\n",
      "60/60 [==============================] - 0s 5ms/step - loss: 0.2298\n",
      "Epoch 26/50\n",
      "60/60 [==============================] - 0s 4ms/step - loss: 0.2289\n",
      "Epoch 27/50\n",
      "60/60 [==============================] - 0s 4ms/step - loss: 0.2295\n",
      "Epoch 28/50\n",
      "60/60 [==============================] - 0s 4ms/step - loss: 0.2324\n",
      "Epoch 29/50\n",
      "60/60 [==============================] - 0s 4ms/step - loss: 0.2294\n",
      "Epoch 30/50\n",
      "60/60 [==============================] - 0s 4ms/step - loss: 0.2326\n",
      "Epoch 31/50\n",
      "60/60 [==============================] - 0s 5ms/step - loss: 0.2298\n",
      "Epoch 32/50\n",
      "60/60 [==============================] - 0s 5ms/step - loss: 0.2322\n",
      "Epoch 33/50\n",
      "60/60 [==============================] - 0s 4ms/step - loss: 0.2305\n",
      "Epoch 34/50\n",
      "60/60 [==============================] - 0s 4ms/step - loss: 0.2298\n",
      "Epoch 35/50\n",
      "60/60 [==============================] - 0s 4ms/step - loss: 0.2313\n",
      "Epoch 36/50\n",
      "60/60 [==============================] - 0s 4ms/step - loss: 0.2356\n",
      "Epoch 37/50\n",
      "60/60 [==============================] - 0s 4ms/step - loss: 0.2289\n",
      "Epoch 38/50\n",
      "60/60 [==============================] - 0s 4ms/step - loss: 0.2300\n",
      "Epoch 39/50\n",
      "60/60 [==============================] - 0s 4ms/step - loss: 0.2358\n",
      "Epoch 40/50\n",
      "60/60 [==============================] - 0s 4ms/step - loss: 0.2337\n",
      "Epoch 41/50\n",
      "60/60 [==============================] - 0s 4ms/step - loss: 0.2332\n",
      "Epoch 42/50\n",
      "60/60 [==============================] - 0s 4ms/step - loss: 0.2345\n",
      "Epoch 43/50\n",
      "60/60 [==============================] - 0s 5ms/step - loss: 0.2282\n",
      "Epoch 44/50\n",
      "60/60 [==============================] - 0s 5ms/step - loss: 0.2314\n",
      "Epoch 45/50\n",
      "60/60 [==============================] - 0s 4ms/step - loss: 0.2284\n",
      "Epoch 46/50\n",
      "60/60 [==============================] - 0s 4ms/step - loss: 0.2331\n",
      "Epoch 47/50\n",
      "60/60 [==============================] - 0s 4ms/step - loss: 0.2330\n",
      "Epoch 48/50\n",
      "60/60 [==============================] - 0s 4ms/step - loss: 0.2342\n",
      "Epoch 49/50\n",
      "60/60 [==============================] - 0s 4ms/step - loss: 0.2382\n",
      "Epoch 50/50\n",
      "60/60 [==============================] - 0s 4ms/step - loss: 0.2356\n"
     ]
    }
   ],
   "source": [
    "history = model.fit(X, Y, epochs=50, verbose=1)"
   ]
  },
  {
   "cell_type": "code",
   "execution_count": 9,
   "metadata": {},
   "outputs": [
    {
     "data": {
      "image/png": "[encoded data removed]",
      "text/plain": [
       "<Figure size 432x288 with 1 Axes>"
      ]
     },
     "metadata": {
      "needs_background": "light"
     },
     "output_type": "display_data"
    },
    {
     "data": {
      "text/plain": [
       "<Figure size 432x288 with 0 Axes>"
      ]
     },
     "metadata": {},
     "output_type": "display_data"
    }
   ],
   "source": [
    "plt.plot(history.history['loss'], ':b',label='MSE')\n",
    "plt.xlabel('Epochs')\n",
    "plt.ylabel('MSE')\n",
    "plt.ylim(0, 10)\n",
    "plt.show()\n",
    "plt.clf()"
   ]
  },
  {
   "cell_type": "code",
   "execution_count": 10,
   "metadata": {},
   "outputs": [
    {
     "name": "stdout",
     "output_type": "stream",
     "text": [
      "2/2 [==============================] - 0s 3ms/step\n"
     ]
    }
   ],
   "source": [
    "test_output = model.predict(X_val, verbose=1)"
   ]
  },
  {
   "cell_type": "code",
   "execution_count": 11,
   "metadata": {},
   "outputs": [
    {
     "data": {
      "text/plain": [
       "((50, 50, 1), (50, 1))"
      ]
     },
     "execution_count": 11,
     "metadata": {},
     "output_type": "execute_result"
    }
   ],
   "source": [
    "X_val.shape, Y_val.shape"
   ]
  },
  {
   "cell_type": "code",
   "execution_count": 12,
   "metadata": {},
   "outputs": [
    {
     "name": "stdout",
     "output_type": "stream",
     "text": [
      "0.2248\n"
     ]
    }
   ],
   "source": [
    "MSE = round(mean_squared_error(Y_val[:, 0], test_output[:, 0]), 50)\n",
    "print(round(MSE, 4))"
   ]
  },
  {
   "cell_type": "code",
   "execution_count": 13,
   "metadata": {},
   "outputs": [
    {
     "data": {
      "image/png": "[encoded data removed]",
      "text/plain": [
       "<Figure size 432x288 with 1 Axes>"
      ]
     },
     "metadata": {
      "needs_background": "light"
     },
     "output_type": "display_data"
    }
   ],
   "source": [
    "plt.xlabel('x')\n",
    "plt.ylabel('y')\n",
    "plt.plot(test_output[:20], ':r', label='Prediction', linewidth=2)\n",
    "#plt.plot(Y_val[:, 0], ':b', label='Actual', linewidth=2)\n",
    "plt.legend();\n",
    "#plt.savefig('/Users/austinschladant/Anaconda/Project2/pred.png', dpi=600)\n",
    "plt.show()"
   ]
  },
  {
   "cell_type": "code",
   "execution_count": 14,
   "metadata": {},
   "outputs": [
    {
     "data": {
      "text/plain": [
       "(50, 1)"
      ]
     },
     "execution_count": 14,
     "metadata": {},
     "output_type": "execute_result"
    }
   ],
   "source": [
    "test_output.shape"
   ]
  },
  {
   "cell_type": "code",
   "execution_count": 15,
   "metadata": {},
   "outputs": [
    {
     "data": {
      "text/plain": [
       "\"\\nUncomment to save graph\\nfor i in range(0, 50, 2):\\n    plt.plot(test_output[:i, 0], 'r', label='Prediction', linewidth=2)\\n    plt.plot(Y_val[:, 0], ':b', label='Actual', linewidth=2)\\n    plt.title('tanh\\nMSE: {}'.format(MSE))\\n    plt.legend();\\n    plt.savefig('/Users/PredComplex{}.png'.format(i)\\n                , dpi=600)\\n    plt.clf()\\n\""
      ]
     },
     "execution_count": 15,
     "metadata": {},
     "output_type": "execute_result"
    }
   ],
   "source": [
    "'''\n",
    "Uncomment to save graph\n",
    "for i in range(0, 50, 2):\n",
    "    plt.plot(test_output[:i, 0], 'r', label='Prediction', linewidth=2)\n",
    "    plt.plot(Y_val[:, 0], ':b', label='Actual', linewidth=2)\n",
    "    plt.title('tanh\\nMSE: {}'.format(MSE))\n",
    "    plt.legend();\n",
    "    plt.savefig('/Users/PredComplex{}.png'.format(i)\n",
    "                , dpi=600)\n",
    "    plt.clf()\n",
    "'''"
   ]
  },
  {
   "cell_type": "code",
   "execution_count": null,
   "metadata": {},
   "outputs": [],
   "source": []
  }
 ],
 "metadata": {
  "kernelspec": {
   "display_name": "Python 3",
   "language": "python",
   "name": "python3"
  },
  "language_info": {
   "codemirror_mode": {
    "name": "ipython",
    "version": 3
   },
   "file_extension": ".py",
   "mimetype": "text/x-python",
   "name": "python",
   "nbconvert_exporter": "python",
   "pygments_lexer": "ipython3",
   "version": "3.8.3"
  }
 },
 "nbformat": 4,
 "nbformat_minor": 4
}
