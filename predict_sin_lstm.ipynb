{
 "cells": [
  {
   "cell_type": "code",
   "execution_count": 1,
   "metadata": {},
   "outputs": [],
   "source": [
    "import numpy as np\n",
    "import tensorflow as tf\n",
    "from tensorflow import keras\n",
    "from tensorflow.keras import layers\n",
    "from tensorflow.keras.layers import Dropout\n",
    "import math\n",
    "import matplotlib.pyplot as plt\n",
    "from sklearn.metrics import mean_squared_error"
   ]
  },
  {
   "cell_type": "code",
   "execution_count": 2,
   "metadata": {},
   "outputs": [],
   "source": [
    "sin_wave = np.array([math.sin(x) for x in np.arange(200)])"
   ]
  },
  {
   "cell_type": "code",
   "execution_count": 3,
   "metadata": {},
   "outputs": [],
   "source": [
    "X = []\n",
    "Y = []\n",
    "\n",
    "seq_len = 50\n",
    "num_records = len(sin_wave) - seq_len\n",
    "\n",
    "for i in range(num_records - 50):\n",
    "    X.append(sin_wave[i:i+seq_len])\n",
    "    Y.append(sin_wave[i+seq_len])\n",
    "    \n",
    "X = np.array(X)\n",
    "X = np.expand_dims(X, axis=2)\n",
    "\n",
    "Y = np.array(Y)\n",
    "Y = np.expand_dims(Y, axis=1)"
   ]
  },
  {
   "cell_type": "code",
   "execution_count": 4,
   "metadata": {},
   "outputs": [
    {
     "data": {
      "text/plain": [
       "((100, 50, 1),\n",
       " array([[[ 0.        ],\n",
       "         [ 0.84147098],\n",
       "         [ 0.90929743],\n",
       "         ...,\n",
       "         [ 0.12357312],\n",
       "         [-0.76825466],\n",
       "         [-0.95375265]],\n",
       " \n",
       "        [[ 0.84147098],\n",
       "         [ 0.90929743],\n",
       "         [ 0.14112001],\n",
       "         ...,\n",
       "         [-0.76825466],\n",
       "         [-0.95375265],\n",
       "         [-0.26237485]],\n",
       " \n",
       "        [[ 0.90929743],\n",
       "         [ 0.14112001],\n",
       "         [-0.7568025 ],\n",
       "         ...,\n",
       "         [-0.95375265],\n",
       "         [-0.26237485],\n",
       "         [ 0.67022918]],\n",
       " \n",
       "        ...,\n",
       " \n",
       "        [[ 0.37960774],\n",
       "         [-0.57338187],\n",
       "         [-0.99920683],\n",
       "         ...,\n",
       "         [-0.49102159],\n",
       "         [ 0.46774516],\n",
       "         [ 0.99646917]],\n",
       " \n",
       "        [[-0.57338187],\n",
       "         [-0.99920683],\n",
       "         [-0.50636564],\n",
       "         ...,\n",
       "         [ 0.46774516],\n",
       "         [ 0.99646917],\n",
       "         [ 0.60904402]],\n",
       " \n",
       "        [[-0.99920683],\n",
       "         [-0.50636564],\n",
       "         [ 0.45202579],\n",
       "         ...,\n",
       "         [ 0.99646917],\n",
       "         [ 0.60904402],\n",
       "         [-0.33833339]]]))"
      ]
     },
     "execution_count": 4,
     "metadata": {},
     "output_type": "execute_result"
    }
   ],
   "source": [
    "X.shape, X"
   ]
  },
  {
   "cell_type": "code",
   "execution_count": 5,
   "metadata": {},
   "outputs": [],
   "source": [
    "X_val = []\n",
    "Y_val = []\n",
    "\n",
    "for i in range(num_records - 50, num_records):\n",
    "    X_val.append(sin_wave[i:i+seq_len])\n",
    "    Y_val.append(sin_wave[i+seq_len])\n",
    "    \n",
    "X_val = np.array(X_val)\n",
    "X_val = np.expand_dims(X_val, axis=2)\n",
    "\n",
    "Y_val = np.array(Y_val)\n",
    "Y_val = np.expand_dims(Y_val, axis=1)"
   ]
  },
  {
   "cell_type": "code",
   "execution_count": 6,
   "metadata": {},
   "outputs": [
    {
     "data": {
      "text/plain": [
       "((100, 50, 1), (100, 1))"
      ]
     },
     "execution_count": 6,
     "metadata": {},
     "output_type": "execute_result"
    }
   ],
   "source": [
    "# Batch_size = 100, size_of_batch = 50\n",
    "X.shape, Y.shape"
   ]
  },
  {
   "cell_type": "code",
   "execution_count": 7,
   "metadata": {
    "scrolled": true
   },
   "outputs": [
    {
     "name": "stdout",
     "output_type": "stream",
     "text": [
      "100 50\n",
      "(50, 1)\n"
     ]
    }
   ],
   "source": [
    "# X has 100 samples, 50 time-stamps, and 1 feature\n",
    "print(len(X), len(X[0]))\n",
    "print(X[0].shape)"
   ]
  },
  {
   "cell_type": "code",
   "execution_count": 8,
   "metadata": {
    "scrolled": true
   },
   "outputs": [],
   "source": [
    "model = keras.Sequential()\n",
    "model.add(layers.LSTM(128, activation='tanh'))\n",
    "model.add(layers.Dense(1, activation='tanh'))\n",
    "model.compile(optimizer='adam', loss='mse',\n",
    "             metrics=[tf.keras.metrics.MeanSquaredError()])"
   ]
  },
  {
   "cell_type": "code",
   "execution_count": 9,
   "metadata": {
    "scrolled": true
   },
   "outputs": [
    {
     "name": "stdout",
     "output_type": "stream",
     "text": [
      "Epoch 1/25\n",
      "4/4 [==============================] - 0s 18ms/step - loss: 0.4841 - mean_squared_error: 0.4841\n",
      "Epoch 2/25\n",
      "4/4 [==============================] - 0s 16ms/step - loss: 0.4474 - mean_squared_error: 0.4474\n",
      "Epoch 3/25\n",
      "4/4 [==============================] - 0s 14ms/step - loss: 0.4106 - mean_squared_error: 0.4106\n",
      "Epoch 4/25\n",
      "4/4 [==============================] - 0s 14ms/step - loss: 0.3730 - mean_squared_error: 0.3730\n",
      "Epoch 5/25\n",
      "4/4 [==============================] - 0s 14ms/step - loss: 0.3249 - mean_squared_error: 0.3249\n",
      "Epoch 6/25\n",
      "4/4 [==============================] - 0s 13ms/step - loss: 0.2731 - mean_squared_error: 0.2731\n",
      "Epoch 7/25\n",
      "4/4 [==============================] - 0s 14ms/step - loss: 0.2066 - mean_squared_error: 0.2066\n",
      "Epoch 8/25\n",
      "4/4 [==============================] - 0s 13ms/step - loss: 0.1298 - mean_squared_error: 0.1298\n",
      "Epoch 9/25\n",
      "4/4 [==============================] - 0s 13ms/step - loss: 0.0515 - mean_squared_error: 0.0515\n",
      "Epoch 10/25\n",
      "4/4 [==============================] - 0s 13ms/step - loss: 0.0086 - mean_squared_error: 0.0086\n",
      "Epoch 11/25\n",
      "4/4 [==============================] - 0s 13ms/step - loss: 0.0291 - mean_squared_error: 0.0291\n",
      "Epoch 12/25\n",
      "4/4 [==============================] - 0s 13ms/step - loss: 0.0259 - mean_squared_error: 0.0259\n",
      "Epoch 13/25\n",
      "4/4 [==============================] - 0s 13ms/step - loss: 0.0151 - mean_squared_error: 0.0151\n",
      "Epoch 14/25\n",
      "4/4 [==============================] - 0s 12ms/step - loss: 0.0089 - mean_squared_error: 0.0089\n",
      "Epoch 15/25\n",
      "4/4 [==============================] - 0s 12ms/step - loss: 0.0070 - mean_squared_error: 0.0070\n",
      "Epoch 16/25\n",
      "4/4 [==============================] - 0s 13ms/step - loss: 0.0082 - mean_squared_error: 0.0082\n",
      "Epoch 17/25\n",
      "4/4 [==============================] - 0s 13ms/step - loss: 0.0082 - mean_squared_error: 0.0082\n",
      "Epoch 18/25\n",
      "4/4 [==============================] - 0s 13ms/step - loss: 0.0074 - mean_squared_error: 0.0074\n",
      "Epoch 19/25\n",
      "4/4 [==============================] - 0s 14ms/step - loss: 0.0067 - mean_squared_error: 0.0067\n",
      "Epoch 20/25\n",
      "4/4 [==============================] - 0s 14ms/step - loss: 0.0066 - mean_squared_error: 0.0066\n",
      "Epoch 21/25\n",
      "4/4 [==============================] - 0s 14ms/step - loss: 0.0067 - mean_squared_error: 0.0067\n",
      "Epoch 22/25\n",
      "4/4 [==============================] - 0s 14ms/step - loss: 0.0068 - mean_squared_error: 0.0068\n",
      "Epoch 23/25\n",
      "4/4 [==============================] - 0s 14ms/step - loss: 0.0065 - mean_squared_error: 0.0065\n",
      "Epoch 24/25\n",
      "4/4 [==============================] - 0s 14ms/step - loss: 0.0072 - mean_squared_error: 0.0072\n",
      "Epoch 25/25\n",
      "4/4 [==============================] - 0s 14ms/step - loss: 0.0065 - mean_squared_error: 0.0065\n"
     ]
    }
   ],
   "source": [
    "history = model.fit(X, Y, epochs=25, verbose=1)"
   ]
  },
  {
   "cell_type": "code",
   "execution_count": 10,
   "metadata": {},
   "outputs": [
    {
     "data": {
      "image/png": "[encoded data removed]",
      "text/plain": [
       "<Figure size 432x288 with 1 Axes>"
      ]
     },
     "metadata": {
      "needs_background": "light"
     },
     "output_type": "display_data"
    },
    {
     "data": {
      "text/plain": [
       "<Figure size 432x288 with 0 Axes>"
      ]
     },
     "metadata": {},
     "output_type": "display_data"
    }
   ],
   "source": [
    "plt.plot(history.history['mean_squared_error'], ':b',label='MSE')\n",
    "plt.xlabel('Epoch')\n",
    "plt.ylabel('MSE')\n",
    "plt.show()\n",
    "plt.clf()"
   ]
  },
  {
   "cell_type": "code",
   "execution_count": 11,
   "metadata": {
    "scrolled": false
   },
   "outputs": [
    {
     "name": "stdout",
     "output_type": "stream",
     "text": [
      "2/2 [==============================] - 0s 4ms/step - loss: 0.0064 - mean_squared_error: 0.0064\n"
     ]
    },
    {
     "data": {
      "text/plain": [
       "[0.006419364362955093, 0.006419364362955093]"
      ]
     },
     "execution_count": 11,
     "metadata": {},
     "output_type": "execute_result"
    }
   ],
   "source": [
    "model.evaluate(X_val, Y_val, verbose=1)"
   ]
  },
  {
   "cell_type": "code",
   "execution_count": 12,
   "metadata": {},
   "outputs": [
    {
     "name": "stdout",
     "output_type": "stream",
     "text": [
      "4/4 [==============================] - 0s 5ms/step\n"
     ]
    }
   ],
   "source": [
    "test_output = model.predict(X, verbose=1)"
   ]
  },
  {
   "cell_type": "code",
   "execution_count": 13,
   "metadata": {},
   "outputs": [
    {
     "name": "stdout",
     "output_type": "stream",
     "text": [
      "0.0069\n"
     ]
    }
   ],
   "source": [
    "MSE = round(mean_squared_error(Y[:, 0], test_output[:, 0]),4)\n",
    "print(MSE)"
   ]
  },
  {
   "cell_type": "code",
   "execution_count": 14,
   "metadata": {
    "scrolled": true
   },
   "outputs": [
    {
     "data": {
      "image/png": "[encoded data removed]",
      "text/plain": [
       "<Figure size 432x288 with 1 Axes>"
      ]
     },
     "metadata": {
      "needs_background": "light"
     },
     "output_type": "display_data"
    }
   ],
   "source": [
    "plt.xlabel('x')\n",
    "plt.ylabel('y')\n",
    "plt.xlim(-1, 100)\n",
    "plt.ylim(-2, 2)\n",
    "plt.title('MSE: {}'.format(MSE))\n",
    "plt.plot(test_output[:, 0], ':r', label='Prediction')\n",
    "plt.plot(Y[:, 0], ':b', label='Actual')\n",
    "plt.legend();\n",
    "#plt.savefig('/Users/austinschladant/Anaconda/Project2/pred.png', dpi=600)\n",
    "plt.show()"
   ]
  },
  {
   "cell_type": "code",
   "execution_count": 15,
   "metadata": {},
   "outputs": [
    {
     "data": {
      "text/plain": [
       "\"\\nUncomment to save graphs\\n\\nfor i in range(0, 100, 5):\\n    plt.xlabel('x')\\n    plt.ylabel('y')\\n    plt.xlim(-1, 100)\\n    plt.ylim(-2, 2)\\n    plt.title('MSE: {}'.format(MSE))\\n    plt.plot(test_output[:i, 0], 'r', label='Prediction')\\n    plt.plot(Y[:, 0], ':b', label='Actual')\\n    plt.legend();\\n    plt.savefig('/Users/austinschladant/Anaconda/Project2/pred{}.png'.format(i)\\n                , dpi=600)\\n    plt.clf()\\n    \\n\""
      ]
     },
     "execution_count": 15,
     "metadata": {},
     "output_type": "execute_result"
    }
   ],
   "source": [
    "'''\n",
    "Uncomment to save graphs\n",
    "\n",
    "for i in range(0, 100, 5):\n",
    "    plt.xlabel('x')\n",
    "    plt.ylabel('y')\n",
    "    plt.xlim(-1, 100)\n",
    "    plt.ylim(-2, 2)\n",
    "    plt.title('MSE: {}'.format(MSE))\n",
    "    plt.plot(test_output[:i, 0], 'r', label='Prediction')\n",
    "    plt.plot(Y[:, 0], ':b', label='Actual')\n",
    "    plt.legend();\n",
    "    plt.savefig('/Users/pred{}.png'.format(i)\n",
    "                , dpi=600)\n",
    "    plt.clf()\n",
    "    \n",
    "'''"
   ]
  },
  {
   "cell_type": "code",
   "execution_count": null,
   "metadata": {},
   "outputs": [],
   "source": []
  }
 ],
 "metadata": {
  "kernelspec": {
   "display_name": "Python 3",
   "language": "python",
   "name": "python3"
  },
  "language_info": {
   "codemirror_mode": {
    "name": "ipython",
    "version": 3
   },
   "file_extension": ".py",
   "mimetype": "text/x-python",
   "name": "python",
   "nbconvert_exporter": "python",
   "pygments_lexer": "ipython3",
   "version": "3.8.3"
  }
 },
 "nbformat": 4,
 "nbformat_minor": 4
}
